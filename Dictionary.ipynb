{
 "cells": [
  {
   "cell_type": "code",
   "execution_count": 56,
   "metadata": {},
   "outputs": [
    {
     "name": "stdout",
     "output_type": "stream",
     "text": [
      "24.35\n",
      "24.35\n",
      "20\n",
      "487\n",
      "9\n",
      "['GT', 'Cube']\n",
      "8\n",
      "['YT', 'Peugeot', 'Pivot', 'Merida', 'Kona', 'Hope', 'Commencal']\n"
     ]
    }
   ],
   "source": [
    "import numpy as np\n",
    "from statistics import mean\n",
    "\n",
    "myStockVelo={\n",
    "    \"Lapierre\" : 15, \"YT\" : 10, \"Peugeot\" : 30, \"Rose\" : 23,\n",
    "    \"MoustacheBike\" : 37, \"Scott\" : 3, \"BH\" : 19, \"GT\" : 53,\n",
    "    \"Pivot\" : 28, \"Sunn\" : 33, \"Yeti\" : 7, \"Trek\" : 21,\n",
    "    \"Mondraker\" : 35, \"Merida\" : 30, \"Look\" : 1, \"Kona\" : 20,\n",
    "    \"Hope\" : 18, \"Focus\" : 31, \"Cube\" : 53, \"Commencal\" : 20\n",
    "}\n",
    "\n",
    "#1 Quelle est la moyenne dans le stock (2 chiffre apres la virgule)\n",
    "\n",
    "# print(\n",
    "#     mean( myStockVelo.values() )\n",
    "# )\n",
    "print(\n",
    "    np.average( list( myStockVelo.values() ) )\n",
    ")\n",
    "\n",
    "#2 Afficher le nombre total de marque dans le stock\n",
    "\n",
    "print(\n",
    "    len( myStockVelo.values() )\n",
    ")\n",
    "\n",
    "#3 Afficher le nombre total de vélo dans le stock\n",
    "\n",
    "print(\n",
    "    sum( myStockVelo.values() )\n",
    ")\n",
    "\n",
    "#4 Combien de marque est supérieur a la moyenne du stock\n",
    "\n",
    "avg = mean( myStockVelo.values() )\n",
    "sup = [ key for key, val in myStockVelo.items() if ( val > avg ) ]\n",
    "\n",
    "print(\n",
    "    \n",
    "    len( sup )\n",
    ")\n",
    "\n",
    "#5 Quelle est la marque qui a le plus de velo en stock (en 4 lignes)\n",
    "\n",
    "highest = max( myStockVelo.values() )\n",
    "\n",
    "print(\n",
    "    [ key for key, val in myStockVelo.items() if ( val == highest ) ]\n",
    ")\n",
    "\n",
    "#6 Combien de marque ont 4 lettres ?\n",
    "\n",
    "fours = [ key for key in myStockVelo.keys() if (len(key) == 4) ]\n",
    "\n",
    "print(\n",
    "    len( fours )\n",
    ")\n",
    "\n",
    "#7 Afficher les marques qui ont des stocks paire\n",
    "\n",
    "print(\n",
    "    [ key for key, val in myStockVelo.items() if (val % 2 == 0) ]\n",
    ")"
   ]
  },
  {
   "cell_type": "code",
   "execution_count": null,
   "metadata": {},
   "outputs": [],
   "source": []
  },
  {
   "cell_type": "code",
   "execution_count": null,
   "metadata": {},
   "outputs": [],
   "source": []
  }
 ],
 "metadata": {
  "kernelspec": {
   "display_name": "Python 3",
   "language": "python",
   "name": "python3"
  },
  "language_info": {
   "codemirror_mode": {
    "name": "ipython",
    "version": 3
   },
   "file_extension": ".py",
   "mimetype": "text/x-python",
   "name": "python",
   "nbconvert_exporter": "python",
   "pygments_lexer": "ipython3",
   "version": "3.7.4"
  }
 },
 "nbformat": 4,
 "nbformat_minor": 2
}
