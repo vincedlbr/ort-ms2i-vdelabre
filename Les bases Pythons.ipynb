{
 "cells": [
  {
   "cell_type": "code",
   "execution_count": 20,
   "metadata": {},
   "outputs": [],
   "source": [
    "from statistics import mean\n",
    "\n",
    "vitesse_compteur = [12,2,24,56,63,15,14,13,82,33,52,69,26,19,91,2,54,92,33,58,17,33,29,72,4,102,24,44,81,29]\n",
    "\n",
    "vitesse_compteur_min = min(vitesse_compteur)\n",
    "\n",
    "vitesse_compteur_min = max(vitesse_compteur)\n",
    "\n",
    "vitesse_compteur_mean = mean(vitesse_compteur)\n",
    "\n",
    "vitesse_compteur_sorted = vitesse_compteur.copy()\n",
    "vitesse_compteur_sorted.sort(reverse=True)\n",
    "\n",
    "vitesse_compteur_33_to_1 = [x if (x != 33) else 1 for x in vitesse_compteur]"
   ]
  },
  {
   "cell_type": "code",
   "execution_count": 17,
   "metadata": {
    "scrolled": true
   },
   "outputs": [
    {
     "name": "stdout",
     "output_type": "stream",
     "text": [
      "[12, 2, 24, 56, 63, 15, 14, 13, 82, 33, 52, 69, 26, 19, 91, 2, 54, 92, 33, 58, 17, 33, 29, 72, 4, 102, 24, 44, 81, 29]\n"
     ]
    }
   ],
   "source": [
    "print(vitesse_compteur)"
   ]
  },
  {
   "cell_type": "code",
   "execution_count": 36,
   "metadata": {
    "scrolled": true
   },
   "outputs": [
    {
     "name": "stdout",
     "output_type": "stream",
     "text": [
      "12, 2, 24, 56, 63, 15, 14, 13, 82, 33, 52, 69, 26, 19, 91, 2, 54, 92, 33, 58, 17, 33, 29, 72, 4, 102, 24, 44, 81, 29, "
     ]
    }
   ],
   "source": [
    "for v in vitesse_compteur : print(v, end=', ')"
   ]
  },
  {
   "cell_type": "code",
   "execution_count": null,
   "metadata": {},
   "outputs": [],
   "source": []
  }
 ],
 "metadata": {
  "kernelspec": {
   "display_name": "Python 3",
   "language": "python",
   "name": "python3"
  },
  "language_info": {
   "codemirror_mode": {
    "name": "ipython",
    "version": 3
   },
   "file_extension": ".py",
   "mimetype": "text/x-python",
   "name": "python",
   "nbconvert_exporter": "python",
   "pygments_lexer": "ipython3",
   "version": "3.7.4"
  }
 },
 "nbformat": 4,
 "nbformat_minor": 2
}
