{
 "cells": [
  {
   "cell_type": "code",
   "execution_count": 18,
   "metadata": {},
   "outputs": [
    {
     "name": "stdout",
     "output_type": "stream",
     "text": [
      "<function countVelo at 0x7fdfff6d2830>\n",
      "60\n",
      "36\n",
      "None\n",
      "60\n",
      "36\n",
      "blop\n"
     ]
    }
   ],
   "source": [
    "mylistVeloEuro=[\n",
    "    500,  650,  800,  950,  1100, 1250, 1400, 1550, 1700, 1850, \n",
    "    2000, 2150, 2300, 2450, 2600, 2750, 2900, 3050, 3200, 3350,\n",
    "    3500, 3650, 3800, 3950, 4100, 4250, 4400, 4550, 4700, 4850,\n",
    "    5000, 5150, 5300, 5450, 5600, 5750, 5900, 6050, 6200, 6350,\n",
    "    6500, 6650, 6800, 6950, 7100, 7250, 7400, 7550, 7700, 7850,\n",
    "    8000, 8150, 8300, 8450, 8600, 8750, 8900, 9050, 9200, 9350\n",
    "]\n",
    "\n",
    "def countVelo(tab, sup, c=None) :\n",
    "    nb_velo=0\n",
    "    for euro in tab :\n",
    "        if (euro > sup) :\n",
    "            nb_velo=nb_velo+1\n",
    "    return len(tab), nb_velo, c\n",
    "\n",
    "print(countVelo)\n",
    "\n",
    "NbTotalVelo, NbVeloSup, test = countVelo(mylistVeloEuro, 4000)\n",
    "print(NbTotalVelo)\n",
    "print(NbVeloSup)\n",
    "print(test)\n",
    "\n",
    "NbTotalVelo, NbVeloSup, test = countVelo(mylistVeloEuro, 4000, \"blop\")\n",
    "print(NbTotalVelo)\n",
    "print(NbVeloSup)\n",
    "print(test)"
   ]
  }
 ],
 "metadata": {
  "kernelspec": {
   "display_name": "Python 3",
   "language": "python",
   "name": "python3"
  },
  "language_info": {
   "codemirror_mode": {
    "name": "ipython",
    "version": 3
   },
   "file_extension": ".py",
   "mimetype": "text/x-python",
   "name": "python",
   "nbconvert_exporter": "python",
   "pygments_lexer": "ipython3",
   "version": "3.7.4"
  }
 },
 "nbformat": 4,
 "nbformat_minor": 2
}
