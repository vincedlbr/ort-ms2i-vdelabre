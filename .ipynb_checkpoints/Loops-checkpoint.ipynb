{
 "cells": [
  {
   "cell_type": "code",
   "execution_count": 18,
   "metadata": {},
   "outputs": [
    {
     "name": "stdout",
     "output_type": "stream",
     "text": [
      "Combien de velo ont un prix supérieur à 1500 euro : 53\n",
      "\n",
      "Combien de vélo sont compris entre 1700 euro et 5700 euro : 27\n",
      "\n",
      "Combien de vélo qui ont un prix qui n’est pas supérieur à 5000 euro : 31\n",
      "\n",
      "Combien de vélo ont un prix inférieur à 2500 euro ou supérieur à 5500 euro : 40\n",
      "\n"
     ]
    }
   ],
   "source": [
    "mylistVeloEuro=[\n",
    "    500,  650,  800,  950,  1100, 1250, 1400, 1550, 1700, 1850, \n",
    "    2000, 2150, 2300, 2450, 2600, 2750, 2900, 3050, 3200, 3350,\n",
    "    3500, 3650, 3800, 3950, 4100, 4250, 4400, 4550, 4700, 4850,\n",
    "    5000, 5150, 5300, 5450, 5600, 5750, 5900, 6050, 6200, 6350,\n",
    "    6500, 6650, 6800, 6950, 7100, 7250, 7400, 7550, 7700, 7850,\n",
    "    8000, 8150, 8300, 8450, 8600, 8750, 8900, 9050, 9200, 9350\n",
    "]\n",
    "\n",
    "compteur = 0\n",
    "for velo in mylistVeloEuro :\n",
    "    if (velo > 1500) :\n",
    "        compteur += 1\n",
    "\n",
    "print(\"Combien de velo ont un prix supérieur à 1500 euro : %d\\n\" % compteur)\n",
    "\n",
    "compteur = 0\n",
    "for velo in mylistVeloEuro :\n",
    "    if (velo >= 1700 and velo <= 5700) :\n",
    "        compteur += 1\n",
    "\n",
    "print(\"Combien de vélo sont compris entre 1700 euro et 5700 euro : %d\\n\" % compteur)\n",
    "\n",
    "compteur = 0\n",
    "for velo in mylistVeloEuro :\n",
    "    if (velo <= 5000) :\n",
    "        compteur += 1\n",
    "\n",
    "print(\"Combien de vélo qui ont un prix qui n’est pas supérieur à 5000 euro : %d\\n\" % compteur)\n",
    "\n",
    "compteur = 0\n",
    "for velo in mylistVeloEuro :\n",
    "    if (velo < 2500 or velo > 5500) :\n",
    "        compteur += 1\n",
    "\n",
    "print(\"Combien de vélo ont un prix inférieur à 2500 euro ou supérieur à 5500 euro : %d\\n\" % compteur)"
   ]
  },
  {
   "cell_type": "code",
   "execution_count": null,
   "metadata": {},
   "outputs": [],
   "source": []
  }
 ],
 "metadata": {
  "kernelspec": {
   "display_name": "Python 3",
   "language": "python",
   "name": "python3"
  },
  "language_info": {
   "codemirror_mode": {
    "name": "ipython",
    "version": 3
   },
   "file_extension": ".py",
   "mimetype": "text/x-python",
   "name": "python",
   "nbconvert_exporter": "python",
   "pygments_lexer": "ipython3",
   "version": "3.7.4"
  }
 },
 "nbformat": 4,
 "nbformat_minor": 2
}
