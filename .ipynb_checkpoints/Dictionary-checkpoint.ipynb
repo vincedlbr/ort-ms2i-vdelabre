{
 "cells": [
  {
   "cell_type": "code",
   "execution_count": 33,
   "metadata": {},
   "outputs": [
    {
     "name": "stdout",
     "output_type": "stream",
     "text": [
      "24.35\n",
      "20\n",
      "487\n",
      "9\n",
      "['GT', 'Cube']\n",
      "8\n",
      "['YT', 'Peugeot', 'Pivot', 'Merida', 'Kona', 'Hope', 'Commencal']\n"
     ]
    }
   ],
   "source": [
    "import numpy as np\n",
    "from statistics import mean\n",
    "\n",
    "myStockVelo={\n",
    "    \"Lapierre\" : 15,\n",
    "    \"YT\" : 10,\n",
    "    \"Peugeot\" : 30,\n",
    "    \"Rose\" : 23,\n",
    "    \"MoustacheBike\" : 37,\n",
    "    \"Scott\" : 3,\n",
    "    \"BH\" : 19,\n",
    "    \"GT\" : 53,\n",
    "    \"Pivot\" : 28,\n",
    "    \"Sunn\" : 33,\n",
    "    \"Yeti\" : 7,\n",
    "    \"Trek\" : 21, \"Mondraker\" : 35, \"Merida\" : 30, \"Look\" : 1, \"Kona\" : 20, \"Hope\" : 18, \"Focus\" : 31, \"Cube\" : 53, \"Commencal\" : 20\n",
    "}\n",
    "\n",
    "#1 Quelle est la moyenne dans le stock (2 chiffre apres la virgule)\n",
    "\n",
    "print(mean(myStockVelo[k] for k in myStockVelo))\n",
    "\n",
    "#2 Afficher le nombre total de marque dans le stock\n",
    "\n",
    "print(len(myStockVelo.items()))\n",
    "\n",
    "#3 Afficher le nombre total de vélo dans le stock\n",
    "\n",
    "print(sum(myStockVelo.values()))\n",
    "\n",
    "#4 Combien de marque est supérieur a la moyenne du stock\n",
    "\n",
    "print(\n",
    "    len([key for key, val in myStockVelo.items() if (val > (mean(myStockVelo[k] for k in myStockVelo)))])\n",
    ")\n",
    "\n",
    "#5 Quelle est la marque qui a le plus de velo en stock (en 4 lignes)\n",
    "\n",
    "print(\n",
    "    [key for key, val in myStockVelo.items() if (val == max(myStockVelo.values()))]\n",
    ")\n",
    "\n",
    "#6 Combien de marque ont 4 lettres ?\n",
    "\n",
    "print(\n",
    "    len([key for key in myStockVelo.keys() if (len(key) == 4)])\n",
    ")\n",
    "\n",
    "#7 Afficher les marques qui ont des stocks paire\n",
    "\n",
    "print(\n",
    "    [key for key, val in myStockVelo.items() if (val % 2 == 0)]\n",
    ")"
   ]
  }
 ],
 "metadata": {
  "kernelspec": {
   "display_name": "Python 3",
   "language": "python",
   "name": "python3"
  },
  "language_info": {
   "codemirror_mode": {
    "name": "ipython",
    "version": 3
   },
   "file_extension": ".py",
   "mimetype": "text/x-python",
   "name": "python",
   "nbconvert_exporter": "python",
   "pygments_lexer": "ipython3",
   "version": "3.7.4"
  }
 },
 "nbformat": 4,
 "nbformat_minor": 2
}
