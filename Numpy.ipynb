{
 "cells": [
  {
   "cell_type": "code",
   "execution_count": 67,
   "metadata": {},
   "outputs": [
    {
     "name": "stdout",
     "output_type": "stream",
     "text": [
      "[[182320   4148  25264      1]\n",
      " [197800   2501  11891      2]\n",
      " [291540   4374  25351      3]\n",
      " [248540   2398  22215      4]\n",
      " [137600   2536   9234      5]\n",
      " [ 73100   2368  13329      6]\n",
      " [ 73100   1264   8407      7]\n",
      " [124700   1572  12588      8]\n",
      " [141040   2375  16204      9]\n",
      " [106210   1161   9626     10]\n",
      " [154800   1542   8755     11]\n",
      " [137170   1464  14636     12]\n",
      " [134160   2240  21780     13]\n",
      " [125990   1269  11250     14]\n",
      " [ 87290    924   7361     15]\n",
      " [ 94428    768  10497     16]\n",
      " [156520   1320  15768     17]\n",
      " [ 94600   1845  12153     18]\n",
      " [107500   1274  13634     19]\n",
      " [ 68800   1905  10890     20]]\n",
      "Number of brands with more than 2000 velo: 8\n",
      "[25264 25351  9234  8407 16204  8755 21780  7361 15768 13634]\n",
      "Total pieces: 151758\n",
      "4374\n"
     ]
    }
   ],
   "source": [
    "import numpy as np\n",
    "\n",
    "tab = np.array([\n",
    "    [1, 2, 3],\n",
    "    [4, 5, 6],\n",
    "    [7, 8, 9]\n",
    "])\n",
    "\n",
    "tabRand = np.random.randint(100, size=(6,4))\n",
    "\n",
    "tabRand2 = np.random.randint(100, size=(4,4))\n",
    "\n",
    "tabConcat = np.concatenate([tabRand, tabRand2])\n",
    "\n",
    "# print( tabConcat )\n",
    "\n",
    "dataCSV = np.genfromtxt(\"stock.csv\", delimiter=\",\", dtype=int)\n",
    "\n",
    "## fichier Prix total en dollar 0,86 / Nb de Velo / Nb de piece / Ref Marque\n",
    "\n",
    "#1 Convertir le prix en euro sachant que le dollar est a 0.86 euro\n",
    "\n",
    "dataCSV[:, 0] = dataCSV[:, 0] * 0.86\n",
    "\n",
    "print ( dataCSV )\n",
    "\n",
    "\n",
    "\n",
    "#2 Combien de Marque ont des stock de plus de 2000 vélo\n",
    "\n",
    "sup = 2000\n",
    "marque_len = len( dataCSV[ dataCSV[:, 1] > sup ] )\n",
    "print( \"Number of brands with more than %d velo: %d\" % (sup, marque_len) )\n",
    "\n",
    "\n",
    "\n",
    "#3 Calculer la somme total de pieces en stock\n",
    "\n",
    "print(dataCSV[0::2, 2])\n",
    "total_pieces = np.sum(dataCSV[0::2, 2])\n",
    "print( \"Total pieces: %d\" % total_pieces )\n",
    "\n",
    "\n",
    "\n",
    "#4 Quelle est le stock de vélo de la marque qui a la plus grande trésorie\n",
    "\n",
    "highest_thunes = np.max( dataCSV[:, 0] )\n",
    "marque_highest_thunes = dataCSV[dataCSV[:, 0] == highest_thunes][0, 1]\n",
    "\n",
    "print( marque_highest_thunes )"
   ]
  }
 ],
 "metadata": {
  "kernelspec": {
   "display_name": "Python 3",
   "language": "python",
   "name": "python3"
  },
  "language_info": {
   "codemirror_mode": {
    "name": "ipython",
    "version": 3
   },
   "file_extension": ".py",
   "mimetype": "text/x-python",
   "name": "python",
   "nbconvert_exporter": "python",
   "pygments_lexer": "ipython3",
   "version": "3.7.4"
  }
 },
 "nbformat": 4,
 "nbformat_minor": 2
}
